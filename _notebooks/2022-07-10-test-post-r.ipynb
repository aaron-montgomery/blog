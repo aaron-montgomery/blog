{
 "cells": [
  {
   "cell_type": "markdown",
   "id": "d10e6b5c",
   "metadata": {},
   "source": [
    "# \"Test page\"\n",
    "> \"This is where the summary goes!\"\n",
    "\n",
    "- toc: false\n",
    "- branch: master\n",
    "- badges: true\n",
    "- comments: true\n",
    "- categories: [fastpages, r, coupon]\n",
    "- hide: false\n",
    "- search_exclude: true\n",
    "- metadata_key1: metadata_value1\n",
    "- metadata_key2: metadata_value2"
   ]
  },
  {
   "cell_type": "markdown",
   "id": "bd4e1537",
   "metadata": {},
   "source": [
    "# Jupyter Notebook Demo\n",
    "\n",
    "This is a proof-of-concept demonstration of making a Jupyter Notebook blog post.\n",
    "\n",
    "## Question (The Coupon Collector)\n",
    "\n",
    "There are 10 different Super Mario LEGO character packs. Packs are sold in obscure bags, and a customer cannot tell which character is contained in a bag being purchased. How many bags would it take, on average, for someone to complete the set?\n",
    "\n",
    "## Algebraic solution\n",
    "\n",
    "This is the well-known \"Coupon Collector\" problem. The crux of the idea is to consider a sequence of geometric variables representing \"advancement\" to different states.\n",
    "\n",
    "* The first character will always be new.\n",
    "* Next, we consider how many bags will be required to get to our second new character. A given back has a $9/10$ chance of providing a new character and a $1/10$ chance of not doing so; this is a geometric random variable whose expectation is therefore $10/9$.\n",
    "* For the third new character, the same reasoning shows an expected wait time of $10/8$.\n",
    "\n",
    "and so on. The total expected value is therefore\n",
    "$$1 + \\frac{10}{9} + \\frac{10}{8} + \\dots + \\frac{10}{1} \\approx 29.2897.$$\n",
    "\n",
    "## Monte Carlo solution"
   ]
  },
  {
   "cell_type": "code",
   "execution_count": 1,
   "id": "3d101d3c",
   "metadata": {},
   "outputs": [
    {
     "name": "stderr",
     "output_type": "stream",
     "text": [
      "Registered S3 methods overwritten by 'ggplot2':\n",
      "  method         from \n",
      "  [.quosures     rlang\n",
      "  c.quosures     rlang\n",
      "  print.quosures rlang\n",
      "\n",
      "Attaching package: 'dplyr'\n",
      "\n",
      "The following objects are masked from 'package:stats':\n",
      "\n",
      "    filter, lag\n",
      "\n",
      "The following objects are masked from 'package:base':\n",
      "\n",
      "    intersect, setdiff, setequal, union\n",
      "\n"
     ]
    }
   ],
   "source": [
    "library(ggplot2)\n",
    "library(dplyr)\n",
    "\n",
    "coupon <- function(){\n",
    "    i <- 0\n",
    "    collected <- rep(0, 10)\n",
    "    while(sum(collected) < 10){\n",
    "        i <- i + 1\n",
    "        collected[sample(1:10, 1)] <- 1\n",
    "    }\n",
    "    i\n",
    "}"
   ]
  },
  {
   "cell_type": "code",
   "execution_count": 35,
   "id": "f315030b",
   "metadata": {},
   "outputs": [],
   "source": [
    "set.seed(5920)\n",
    "coupon_trials <- replicate(100000, coupon())"
   ]
  },
  {
   "cell_type": "code",
   "execution_count": 38,
   "id": "9c862f85",
   "metadata": {},
   "outputs": [
    {
     "data": {
      "image/png": "[encoded data removed]",
      "text/plain": [
       "plot without title"
      ]
     },
     "metadata": {},
     "output_type": "display_data"
    }
   ],
   "source": [
    "data.frame(bags = coupon_trials) %>%\n",
    "  ggplot(aes(x = bags)) +\n",
    "    geom_histogram(bins = 30, color = \"black\", fill = \"lightblue\") +\n",
    "    geom_vline(xintercept = mean(coupon_trials), color = \"black\", lwd = 1.5, lty = 2, alpha = 0.3) +\n",
    "    annotate(\"text\", x = mean(coupon_trials), y = -200, hjust = 0,\n",
    "             label = paste0(\" mean: \", mean(coupon_trials))) +\n",
    "    labs(x = \"Bags purchased\", y = \"Count\", title = \"Number of bags required to complete set\")"
   ]
  }
 ],
 "metadata": {
  "kernelspec": {
   "display_name": "R",
   "language": "R",
   "name": "ir"
  },
  "language_info": {
   "codemirror_mode": "r",
   "file_extension": ".r",
   "mimetype": "text/x-r-source",
   "name": "R",
   "pygments_lexer": "r",
   "version": "4.1.3"
  }
 },
 "nbformat": 4,
 "nbformat_minor": 5
}
