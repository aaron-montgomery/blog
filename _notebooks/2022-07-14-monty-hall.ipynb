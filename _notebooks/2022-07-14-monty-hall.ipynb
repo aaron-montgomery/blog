{
 "cells": [
  {
   "cell_type": "markdown",
   "id": "db2d107a",
   "metadata": {},
   "source": [
    "# \"Let's Make a Deal!\"\n",
    "> \"Monty Hall meets Monte Carlo\"\n",
    "\n",
    "- toc: false\n",
    "- branch: master\n",
    "- badges: true\n",
    "- comments: true\n",
    "- categories: [probability, simulation, monte-carlo, monty-hall, counterintuitive]\n",
    "- hide: false\n",
    "- image: images/three_doors.jpg\n",
    "- search_exclude: false\n",
    "- metadata_key1: simulation\n",
    "- metadata_key2: probability"
   ]
  },
  {
   "cell_type": "markdown",
   "id": "bd4e1537",
   "metadata": {},
   "source": [
    "# The Monty Hall Problem\n",
    "\n",
    "The Monty Hall problem has probably achieved cultural saturation at this point, but we'll start with a quick refresher:\n",
    "\n",
    "You are playing a game show in which you are shown three numbered doors (1, 2, 3). One of the doors has a prize behind it; the other two do not. You choose a door -- let's say door 1, though it doesn't really matter -- after which the host (Monty Hall) opens door 3 to reveal that it does *not* have the prize. He then offers you the opportunity to switch from door 1, which you chose, to door 2, the only other remaining door. Should you take his offer to switch? (Does it even matter?)\n",
    "\n",
    "We should stipulate for the record that we mean the traditional collection of \"Monty Hall\" rules: that is, Monty will always open one door, he *does* know where the prize is, and he will never reveal a door that has the prize behind it. If you have chosen the prize correctly on the first guess, then he will flip a coin to decide which of the other doors to reveal.\n",
    "\n",
    "## The Incorrect Answer\n",
    "\n",
    "I was first exposed to this problem in college when a friend posed the question to me as a brain teaser to at a cafeteria table. I gave the only sensible answer, which was to say that since you had two doors, **getting the prize was a 50/50 proposition no matter what you chose**. I was, of course, dead wrong.\n",
    "\n",
    "For years, I was slightly embarrassed about this. Not *too* embarrassed, mind you -- after all, I'm wrong all the time. But this one stung because my friend was on my home turf; at this point in my life, I was pretty sure I was going to try to pursue a PhD in Mathematics and I suspected I might gravitate to the field of Probability Theory. Just like that, I whiffed on a probability question in a semi-public forum. \n",
    "\n",
    "My shame was lessened over the years when I learned that if nothing else, I wasn't alone. When Marilyn Vos Savant gave a correct solution to the problem in a 1990 issue of *Parade*, she received [a truckload of letters](https://web.archive.org/web/20130121183432/http://marilynvossavant.com/game-show-problem/), many from professional mathematicians, telling her how wrong she was. (She wasn't wrong, which certainly didn't help the outrageous rudeness of some of those letters.) In his book [Which Door Has the Cadillac: Adventures of a Real Life Mathematician](https://www.maa.org/press/maa-reviews/which-door-has-the-cadillac-adventures-of-a-real-life-mathematician), Andrew Vazsonyi recalls giving the same incorrect \"obvious\" answer to the problem on his first encounter; perhaps more shockingly, he details an account of discussing the problem with Paul Erdös, who also got the problem wrong and became increasingly irate about it until he was eventually shown a simulation proving what the right answer should be.\n",
    "\n",
    "## The Correct Answer\n",
    "\n",
    "That right answer is that **switching is better**. Indeed, staying with your original choice will grant you a $1/3$ chance of winning, and switching will grant a $2/3$ chance of winning. The key detail, of course, is Monty's knowledge of the problem and choice of exactly *how* to reveal what he knows. There are many ways to see why this is true; the [Wikipedia entry](https://en.wikipedia.org/wiki/Monty_Hall_problem) for the Monty Hall problem gives many different explanations of many different flavors (and even criticisms of those same explanations). These explanations are great, but to those who aren't accustomed to long mathematical arguments, they might be less than convincing. \n",
    "\n",
    "The first explanation of the solution in the Wikipedia article states:\n",
    "\n",
    "> When the player first makes their choice, there is a $2/3$ chance that the car is behind one of the doors not chosen. This probability does not change after the host reveals a goat behind one of the unchosen doors.\n",
    "\n",
    "This explanation never quite sat right with me. As Sasha Volokh [put it](https://www.washingtonpost.com/news/volokh-conspiracy/wp/2015/03/02/an-easy-answer-to-the-infamous-monty-hall-problem/): \n",
    "\n",
    "> First, it’s clear that any explanation that says something like “the probability of door 1 was 1/3, and nothing can change that...” is automatically fishy: probabilities are expressions of our ignorance about the world, and new information can change the extent of our ignorance.\n",
    "\n",
    "This is where simulations can do some good."
   ]
  },
  {
   "cell_type": "markdown",
   "id": "f1dae30d",
   "metadata": {},
   "source": [
    "## Simulations\n",
    "\n",
    "We'll write Monte Carlo simulations in R to see that by sticking with our original answer, the probability of winning is indeed $1/3$. We will write a function that simulates one full round of the game; then, we'll `replicate()` the function many times to determine the probability of winning. Our strategy will be to simulate a round of the full game many times and keep track of how often the game results in a win.\n",
    "\n",
    "For our first attempt, we'll recreate a very general version of the game:\n",
    "  * the prize can be found behind any of 3 doors\n",
    "  * the contestant will pick any of 3 doors\n",
    "  * Monty will reveal one door and offer a chance to switch\n",
    "  * the contestant will choose to switch or stay depending on the parameter `stay`"
   ]
  },
  {
   "cell_type": "code",
   "execution_count": 33,
   "id": "01be856d",
   "metadata": {},
   "outputs": [],
   "source": [
    "#collapse_output\n",
    "\n",
    "library(ggplot2)\n",
    "library(dplyr)\n",
    "library(tidyr)\n",
    "options(repr.plot.width=10, repr.plot.height=6)\n",
    "\n",
    "monty_hall <- function(stay){\n",
    "    \n",
    "  doors <- c(\"A\", \"B\", \"C\")              # using ABC instead of 123 due to a quirk in sample()\n",
    "\n",
    "  prize_door <- sample(doors, 1)\n",
    "  contestant_choice <- sample(doors, 1)\n",
    "    \n",
    "  reveal_door <-                                # Monty can't reveal the door with the prize,\n",
    "    union(prize_door, contestant_choice) %>%    # nor can he reveal the selected door, so we'll\n",
    "    setdiff(doors, .) %>%                       # remove those choices from the doors vector\n",
    "    sample(1)  \n",
    "\n",
    "  switch_offer <- setdiff(doors, c(contestant_choice, reveal_door))\n",
    "    \n",
    "  ifelse(prize_door == ifelse(stay, contestant_choice, switch_offer), \"win\", \"lose\")\n",
    "    # the function returns the strings \"win\" and \"lose\"\n",
    "    # when stay is TRUE, check to see if the prize door matches the contestant's choice\n",
    "    # when stay is FALSE, check to see if the prize door matches the door offered in a switch\n",
    "}"
   ]
  },
  {
   "cell_type": "markdown",
   "id": "80aecfda",
   "metadata": {},
   "source": [
    "Next, we'll generate 10K trials of the game under each of the two options (switching and staying). We'll reshape the outcomes just a bit and then plot them."
   ]
  },
  {
   "cell_type": "code",
   "execution_count": 12,
   "id": "57db7d55",
   "metadata": {},
   "outputs": [],
   "source": [
    "monty_stay_trials <- replicate(10000, monty_hall(stay = TRUE))\n",
    "monty_switch_trials <- replicate(10000, monty_hall(stay = FALSE))"
   ]
  },
  {
   "cell_type": "code",
   "execution_count": 31,
   "id": "fe2235be",
   "metadata": {},
   "outputs": [
    {
     "data": {
      "image/png": "[encoded data removed]",
      "text/plain": [
       "plot without title"
      ]
     },
     "metadata": {
      "image/png": {
       "height": 360,
       "width": 600
      }
     },
     "output_type": "display_data"
    }
   ],
   "source": [
    "data.frame(stay = monty_stay_trials, switch = monty_switch_trials) %>%\n",
    "  pivot_longer(everything(), names_to = \"choice\", values_to = \"outcome\") %>% \n",
    "  ggplot(aes(x = outcome)) +\n",
    "    geom_bar(stat = \"count\") +\n",
    "    facet_wrap(~choice) +\n",
    "    labs(title = \"Monty Hall Monte Carlo simulation results\",\n",
    "         subtitle = \"10,000 trials per contestent choice possibility\") +\n",
    "    theme(text = element_text(size = 20))"
   ]
  },
  {
   "cell_type": "markdown",
   "id": "1264f2f9",
   "metadata": {},
   "source": [
    "The simulations show us exactly what we expected; switching is good, staying is bad. We can also easily confirm that the probability of winning by switching is $2/3$:"
   ]
  },
  {
   "cell_type": "code",
   "execution_count": 32,
   "id": "0f56b59f",
   "metadata": {},
   "outputs": [
    {
     "data": {
      "text/html": [
       "0.6747"
      ],
      "text/latex": [
       "0.6747"
      ],
      "text/markdown": [
       "0.6747"
      ],
      "text/plain": [
       "[1] 0.6747"
      ]
     },
     "metadata": {},
     "output_type": "display_data"
    }
   ],
   "source": [
    "mean(monty_switch_trials == \"win\")"
   ]
  },
  {
   "cell_type": "markdown",
   "id": "d1897124",
   "metadata": {},
   "source": [
    "Our answer is close to $2/3$, and the difference between it and $2/3$ is a small statistical fluctuation, as expected.\n",
    "\n",
    "So, good news: we have confirmed that the correct answer is indeed correct. But can we render any deeper insights from this? Let's focus on the function in the case when `stay == TRUE`. In that case, the code looks like this:\n",
    "\n",
    "```\n",
    "monty_hall <- function(stay){\n",
    "    \n",
    "  doors <- c(\"A\", \"B\", \"C\")      \n",
    "\n",
    "  prize_door <- sample(doors, 1)\n",
    "  contestant_choice <- sample(doors, 1)\n",
    "    \n",
    "  reveal_door <- \n",
    "    union(prize_door, contestant_choice) %>%    \n",
    "    setdiff(doors, .) %>%                       \n",
    "    sample(1)  \n",
    "\n",
    "  switch_offer <- setdiff(doors, c(contestant_choice, reveal_door))\n",
    "    \n",
    "  ifelse(prize_door == contestant_choice, \"win\", \"lose\")\n",
    "}\n",
    "\n",
    "```\n",
    "\n",
    "Here, `switch_offer` doesn't actually get used at all in the line that returns the function. This means that the `switch_offer <- ...` line, and the `reveal_door <- ...` lines, are unused appendages. If we remove them, we're left with this:\n",
    "\n",
    "```\n",
    "monty_hall <- function(stay){\n",
    "    \n",
    "  doors <- c(\"A\", \"B\", \"C\")      \n",
    "\n",
    "  prize_door <- sample(doors, 1)\n",
    "  contestant_choice <- sample(doors, 1)\n",
    "    \n",
    "  ifelse(prize_door == contestant_choice, \"win\", \"lose\")\n",
    "}\n",
    "```\n",
    "\n",
    "Now, we see that our code has reduced to a simulation that draws two objects independently from a collection of three and checks to see if they're the same. That probability is clearly $1/3$, and this explanation now aligns perfectly with the Wikipedia explanation that nothing has changed the original probability of $1/3$, whether that explanation is \"fishy\" or not."
   ]
  },
  {
   "cell_type": "markdown",
   "id": "0c18470a",
   "metadata": {},
   "source": [
    "## Takeaway\n",
    "\n",
    "It's great to be able to use Monte Carlo simulations to confirm a correct answer, but in this case the act of writing a simulation can do something more profound: it can make the *why* behind the answer just a bit more convincing. Or, at least, it did that for me. I've seen (and believed, and produced) many analytical arguments for why switching has a $2/3$ probability, but I never fully believed the Wikipedia explanation until writing code to simulate the game."
   ]
  }
 ],
 "metadata": {
  "kernelspec": {
   "display_name": "R",
   "language": "R",
   "name": "ir"
  },
  "language_info": {
   "codemirror_mode": "r",
   "file_extension": ".r",
   "mimetype": "text/x-r-source",
   "name": "R",
   "pygments_lexer": "r",
   "version": "4.1.3"
  }
 },
 "nbformat": 4,
 "nbformat_minor": 5
}
